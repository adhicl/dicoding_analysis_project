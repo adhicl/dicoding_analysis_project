{
 "cells": [
  {
   "cell_type": "markdown",
   "metadata": {
    "id": "H9wADwK78DCz"
   },
   "source": [
    "# Proyek Analisis Data: Bike Sharing Dataset\n",
    "- Nama: Adhi Christanto Lius\n",
    "- Email: adhicl@gmail.com\n",
    "- ID Dicoding: Adhi Christanto Lius, adhi87"
   ]
  },
  {
   "cell_type": "markdown",
   "metadata": {
    "id": "eE0raob58DC0"
   },
   "source": [
    "## Menentukan Pertanyaan Bisnis"
   ]
  },
  {
   "cell_type": "markdown",
   "metadata": {
    "id": "GmQeQ5YF8DC0"
   },
   "source": [
    "- Bagaimana perkembangan performa usaha pinjam meminjam per bulannya sepeda selama tahun 2011 - 2012\n",
    "- Berapa besar perbandingan pengguna yang casual dengan pengguna yang sudah teregistrasi dari waktu ke waktu perbulannya sepanjang tahun 2011 - 2012"
   ]
  },
  {
   "cell_type": "markdown",
   "metadata": {
    "id": "H-z4QGlO8DC1"
   },
   "source": [
    "## Import Semua Packages/Library yang Digunakan"
   ]
  },
  {
   "cell_type": "code",
   "execution_count": 35,
   "metadata": {
    "id": "FVYwaObI8DC1"
   },
   "outputs": [],
   "source": [
    "import pandas as pd\n",
    "import matplotlib.pyplot as plt\n",
    "import seaborn as sns\n",
    "import streamlit as st"
   ]
  },
  {
   "cell_type": "markdown",
   "metadata": {
    "id": "h_Sh51Xy8DC1"
   },
   "source": [
    "## Data Wrangling"
   ]
  },
  {
   "cell_type": "markdown",
   "metadata": {
    "id": "sXU2GBYu8DC1"
   },
   "source": [
    "### Gathering Data"
   ]
  },
  {
   "cell_type": "code",
   "execution_count": 36,
   "metadata": {
    "colab": {
     "base_uri": "https://localhost:8080/",
     "height": 159
    },
    "id": "zjCBk1BI8DC1",
    "outputId": "b6ae99e3-4e78-478a-9128-04dad6fabf67"
   },
   "outputs": [
    {
     "data": {
      "text/html": [
       "<div>\n",
       "<style scoped>\n",
       "    .dataframe tbody tr th:only-of-type {\n",
       "        vertical-align: middle;\n",
       "    }\n",
       "\n",
       "    .dataframe tbody tr th {\n",
       "        vertical-align: top;\n",
       "    }\n",
       "\n",
       "    .dataframe thead th {\n",
       "        text-align: right;\n",
       "    }\n",
       "</style>\n",
       "<table border=\"1\" class=\"dataframe\">\n",
       "  <thead>\n",
       "    <tr style=\"text-align: right;\">\n",
       "      <th></th>\n",
       "      <th>instant</th>\n",
       "      <th>dteday</th>\n",
       "      <th>season</th>\n",
       "      <th>yr</th>\n",
       "      <th>mnth</th>\n",
       "      <th>holiday</th>\n",
       "      <th>weekday</th>\n",
       "      <th>workingday</th>\n",
       "      <th>casual</th>\n",
       "      <th>registered</th>\n",
       "      <th>cnt</th>\n",
       "    </tr>\n",
       "  </thead>\n",
       "  <tbody>\n",
       "    <tr>\n",
       "      <th>0</th>\n",
       "      <td>1</td>\n",
       "      <td>1/1/2011</td>\n",
       "      <td>1</td>\n",
       "      <td>0</td>\n",
       "      <td>1</td>\n",
       "      <td>0</td>\n",
       "      <td>6</td>\n",
       "      <td>0</td>\n",
       "      <td>331</td>\n",
       "      <td>654</td>\n",
       "      <td>985</td>\n",
       "    </tr>\n",
       "    <tr>\n",
       "      <th>1</th>\n",
       "      <td>2</td>\n",
       "      <td>1/2/2011</td>\n",
       "      <td>1</td>\n",
       "      <td>0</td>\n",
       "      <td>1</td>\n",
       "      <td>0</td>\n",
       "      <td>0</td>\n",
       "      <td>0</td>\n",
       "      <td>131</td>\n",
       "      <td>670</td>\n",
       "      <td>801</td>\n",
       "    </tr>\n",
       "    <tr>\n",
       "      <th>2</th>\n",
       "      <td>3</td>\n",
       "      <td>1/3/2011</td>\n",
       "      <td>1</td>\n",
       "      <td>0</td>\n",
       "      <td>1</td>\n",
       "      <td>0</td>\n",
       "      <td>1</td>\n",
       "      <td>1</td>\n",
       "      <td>120</td>\n",
       "      <td>1229</td>\n",
       "      <td>1349</td>\n",
       "    </tr>\n",
       "    <tr>\n",
       "      <th>3</th>\n",
       "      <td>4</td>\n",
       "      <td>1/4/2011</td>\n",
       "      <td>1</td>\n",
       "      <td>0</td>\n",
       "      <td>1</td>\n",
       "      <td>0</td>\n",
       "      <td>2</td>\n",
       "      <td>1</td>\n",
       "      <td>108</td>\n",
       "      <td>1454</td>\n",
       "      <td>1562</td>\n",
       "    </tr>\n",
       "    <tr>\n",
       "      <th>4</th>\n",
       "      <td>5</td>\n",
       "      <td>1/5/2011</td>\n",
       "      <td>1</td>\n",
       "      <td>0</td>\n",
       "      <td>1</td>\n",
       "      <td>0</td>\n",
       "      <td>3</td>\n",
       "      <td>1</td>\n",
       "      <td>82</td>\n",
       "      <td>1518</td>\n",
       "      <td>1600</td>\n",
       "    </tr>\n",
       "  </tbody>\n",
       "</table>\n",
       "</div>"
      ],
      "text/plain": [
       "   instant    dteday  season  yr  mnth  holiday  weekday  workingday  casual  \\\n",
       "0        1  1/1/2011       1   0     1        0        6           0     331   \n",
       "1        2  1/2/2011       1   0     1        0        0           0     131   \n",
       "2        3  1/3/2011       1   0     1        0        1           1     120   \n",
       "3        4  1/4/2011       1   0     1        0        2           1     108   \n",
       "4        5  1/5/2011       1   0     1        0        3           1      82   \n",
       "\n",
       "   registered   cnt  \n",
       "0         654   985  \n",
       "1         670   801  \n",
       "2        1229  1349  \n",
       "3        1454  1562  \n",
       "4        1518  1600  "
      ]
     },
     "execution_count": 36,
     "metadata": {},
     "output_type": "execute_result"
    }
   ],
   "source": [
    "all_df = pd.read_csv(\"https://github.com/adhicl/dicoding_analysis_project/raw/main/dashboard/main_data.csv\")\n",
    "all_df.head()"
   ]
  },
  {
   "cell_type": "markdown",
   "metadata": {
    "id": "MMi6xGaDkbCi"
   },
   "source": [
    "**Insight:**\n",
    "- data yang digunakan adalah data harian yang sudah dihapus kolom bagian cuaca dan suhu nya\n",
    "- data yang digunakan memiliki kolom: instant merupakan id per entri data yang dipakai sebagai index, dteday sebagai tanggal data di input, terdapat data musim (season) dalam integer (1:springer, 2:summer, 3:fall, 4:winter), yr berisi nilai dari 0 sejak tahun 2011, dan 1 untuk tahun 2012, mnth disimpan dalam integer (1-12, Jan - Des), holiday adalah boolean untuk hari libur, weekday adalah integer (0 - 6, minggu - sabtu), working day adalah nilai boolean yang berdasarkan apakah merupakan hari libur atau merupakan hari Senin - Jumat. casual merupakan jumlah transaksi yang berasal dari user belum terregistrasi, registered adalah jumlah transaksi dari user yang sudah teregistrasi, cnt merupakan total jumlah transaksi"
   ]
  },
  {
   "cell_type": "markdown",
   "metadata": {
    "id": "FHSiqaZp8DC1"
   },
   "source": [
    "### Assessing Data"
   ]
  },
  {
   "cell_type": "code",
   "execution_count": 37,
   "metadata": {
    "id": "ax-3tEjc9Cj1"
   },
   "outputs": [
    {
     "name": "stdout",
     "output_type": "stream",
     "text": [
      "<class 'pandas.core.frame.DataFrame'>\n",
      "RangeIndex: 731 entries, 0 to 730\n",
      "Data columns (total 11 columns):\n",
      " #   Column      Non-Null Count  Dtype \n",
      "---  ------      --------------  ----- \n",
      " 0   instant     731 non-null    int64 \n",
      " 1   dteday      731 non-null    object\n",
      " 2   season      731 non-null    int64 \n",
      " 3   yr          731 non-null    int64 \n",
      " 4   mnth        731 non-null    int64 \n",
      " 5   holiday     731 non-null    int64 \n",
      " 6   weekday     731 non-null    int64 \n",
      " 7   workingday  731 non-null    int64 \n",
      " 8   casual      731 non-null    int64 \n",
      " 9   registered  731 non-null    int64 \n",
      " 10  cnt         731 non-null    int64 \n",
      "dtypes: int64(10), object(1)\n",
      "memory usage: 62.9+ KB\n",
      "Duplicate 0\n"
     ]
    }
   ],
   "source": [
    "all_df.info()\n",
    "print(\"Duplicate %s\"%all_df.duplicated().sum())"
   ]
  },
  {
   "cell_type": "markdown",
   "metadata": {
    "id": "7dtxhAPrkhPL"
   },
   "source": [
    "**Insight:**\n",
    "- kolom dteday formatny object\n",
    "- tidak ada nilai yang terduplikasi\n",
    "- tidak ada data null / kosong\n",
    "- data yang dipakai terisi penuh dan hanya perlu di ubah untuk kolom dteday agar menjadi format datetime"
   ]
  },
  {
   "cell_type": "markdown",
   "metadata": {
    "id": "EhN5R4hr8DC1"
   },
   "source": [
    "### Cleaning Data"
   ]
  },
  {
   "cell_type": "code",
   "execution_count": 38,
   "metadata": {
    "id": "jVnYpprE9Evz"
   },
   "outputs": [
    {
     "name": "stdout",
     "output_type": "stream",
     "text": [
      "<class 'pandas.core.frame.DataFrame'>\n",
      "RangeIndex: 731 entries, 0 to 730\n",
      "Data columns (total 11 columns):\n",
      " #   Column      Non-Null Count  Dtype         \n",
      "---  ------      --------------  -----         \n",
      " 0   instant     731 non-null    int64         \n",
      " 1   dteday      731 non-null    datetime64[ns]\n",
      " 2   season      731 non-null    int64         \n",
      " 3   yr          731 non-null    int64         \n",
      " 4   mnth        731 non-null    int64         \n",
      " 5   holiday     731 non-null    int64         \n",
      " 6   weekday     731 non-null    int64         \n",
      " 7   workingday  731 non-null    int64         \n",
      " 8   casual      731 non-null    int64         \n",
      " 9   registered  731 non-null    int64         \n",
      " 10  cnt         731 non-null    int64         \n",
      "dtypes: datetime64[ns](1), int64(10)\n",
      "memory usage: 62.9 KB\n"
     ]
    }
   ],
   "source": [
    "all_df['dteday'] = pd.to_datetime(all_df['dteday'])\n",
    "all_df.info()"
   ]
  },
  {
   "cell_type": "markdown",
   "metadata": {
    "id": "Q_5ejIqckiSP"
   },
   "source": [
    "**Insight:**\n",
    "- format kolom dteday berhasil diubah ke format datetime"
   ]
  },
  {
   "cell_type": "markdown",
   "metadata": {
    "id": "gp-Y6wU38DC1"
   },
   "source": [
    "## Exploratory Data Analysis (EDA)"
   ]
  },
  {
   "cell_type": "markdown",
   "metadata": {
    "id": "MW7WF2kr8DC1"
   },
   "source": [
    "### Explore ..."
   ]
  },
  {
   "cell_type": "code",
   "execution_count": 39,
   "metadata": {
    "id": "e9CQCZjk8DC2"
   },
   "outputs": [
    {
     "name": "stdout",
     "output_type": "stream",
     "text": [
      "          instant               dteday      season          yr        mnth  \\\n",
      "count  731.000000                  731  731.000000  731.000000  731.000000   \n",
      "mean   366.000000  2012-01-01 00:00:00    2.496580    0.500684    6.519836   \n",
      "min      1.000000  2011-01-01 00:00:00    1.000000    0.000000    1.000000   \n",
      "25%    183.500000  2011-07-02 12:00:00    2.000000    0.000000    4.000000   \n",
      "50%    366.000000  2012-01-01 00:00:00    3.000000    1.000000    7.000000   \n",
      "75%    548.500000  2012-07-01 12:00:00    3.000000    1.000000   10.000000   \n",
      "max    731.000000  2012-12-31 00:00:00    4.000000    1.000000   12.000000   \n",
      "std    211.165812                  NaN    1.110807    0.500342    3.451913   \n",
      "\n",
      "          holiday     weekday  workingday       casual   registered  \\\n",
      "count  731.000000  731.000000  731.000000   731.000000   731.000000   \n",
      "mean     0.028728    2.997264    0.683995   848.176471  3656.172367   \n",
      "min      0.000000    0.000000    0.000000     2.000000    20.000000   \n",
      "25%      0.000000    1.000000    0.000000   315.500000  2497.000000   \n",
      "50%      0.000000    3.000000    1.000000   713.000000  3662.000000   \n",
      "75%      0.000000    5.000000    1.000000  1096.000000  4776.500000   \n",
      "max      1.000000    6.000000    1.000000  3410.000000  6946.000000   \n",
      "std      0.167155    2.004787    0.465233   686.622488  1560.256377   \n",
      "\n",
      "               cnt  \n",
      "count   731.000000  \n",
      "mean   4504.348837  \n",
      "min      22.000000  \n",
      "25%    3152.000000  \n",
      "50%    4548.000000  \n",
      "75%    5956.000000  \n",
      "max    8714.000000  \n",
      "std    1937.211452  \n"
     ]
    }
   ],
   "source": [
    "print(all_df.describe())"
   ]
  },
  {
   "cell_type": "markdown",
   "metadata": {
    "id": "th_Lzl2Fkj9O"
   },
   "source": [
    "**Insight:**\n",
    "- ada 731 record data yang terkumpul dalam 2 tahun 2011 - 2012- \n",
    "- rata - rata total transaksi per hari dalam 2 tahun adalah 4504 transaksi, 3656 dari registered user dan 848 dari casual user\n",
    "- per hari nya, minimal ada 22 transaksi dan maksimum 8714 transaksi"
   ]
  },
  {
   "cell_type": "markdown",
   "metadata": {
    "id": "zsyZjqak8DC2"
   },
   "source": [
    "## Visualization & Explanatory Analysis"
   ]
  },
  {
   "cell_type": "markdown",
   "metadata": {
    "id": "HZxOiQ6n8DC2"
   },
   "source": [
    "### Pertanyaan 1:"
   ]
  },
  {
   "cell_type": "code",
   "execution_count": 40,
   "metadata": {
    "id": "1swJUdAD8DC2"
   },
   "outputs": [
    {
     "name": "stdout",
     "output_type": "stream",
     "text": [
      "               dteday     cnt\n",
      "dteday                       \n",
      "2011-01-01 2011-01-01   38189\n",
      "2011-02-01 2011-02-01   48215\n",
      "2011-03-01 2011-03-01   64045\n",
      "2011-04-01 2011-04-01   94870\n",
      "2011-05-01 2011-05-01  135821\n",
      "2011-06-01 2011-06-01  143512\n",
      "2011-07-01 2011-07-01  141341\n",
      "2011-08-01 2011-08-01  136691\n",
      "2011-09-01 2011-09-01  127418\n",
      "2011-10-01 2011-10-01  123511\n",
      "2011-11-01 2011-11-01  102167\n",
      "2011-12-01 2011-12-01   87323\n",
      "2012-01-01 2012-01-01   96744\n",
      "2012-02-01 2012-02-01  103137\n",
      "2012-03-01 2012-03-01  164875\n",
      "2012-04-01 2012-04-01  174224\n",
      "2012-05-01 2012-05-01  195865\n",
      "2012-06-01 2012-06-01  202830\n",
      "2012-07-01 2012-07-01  203607\n",
      "2012-08-01 2012-08-01  214503\n",
      "2012-09-01 2012-09-01  218573\n",
      "2012-10-01 2012-10-01  198841\n",
      "2012-11-01 2012-11-01  152664\n",
      "2012-12-01 2012-12-01  123713\n"
     ]
    },
    {
     "data": {
      "image/png": "[encoded data removed]",
      "text/plain": [
       "<Figure size 640x480 with 1 Axes>"
      ]
     },
     "metadata": {},
     "output_type": "display_data"
    }
   ],
   "source": [
    "monthly_df = all_df.resample(rule='MS', on=\"dteday\").agg({\n",
    "        \"dteday\": \"first\",\n",
    "        \"cnt\": \"sum\"\n",
    "    })\n",
    "print(monthly_df)\n",
    "\n",
    "sns.histplot(data=monthly_df, x='dteday', weights='cnt', bins=24, kde=True)\n",
    "plt.ylabel(None)\n",
    "plt.xlabel(\"Date\", fontsize=10)\n",
    "plt.title(\"Monthly Transaction\", loc=\"center\", fontsize=18)\n",
    "plt.tick_params(axis='y', labelsize=10)\n",
    "plt.tick_params(axis='x', labelsize=10, rotation=45)\n",
    "plt.show()"
   ]
  },
  {
   "cell_type": "markdown",
   "metadata": {
    "id": "DgHI7CiU8DC2"
   },
   "source": [
    "### Pertanyaan 2:"
   ]
  },
  {
   "cell_type": "code",
   "execution_count": 41,
   "metadata": {
    "id": "Go0lCsvO8DC2"
   },
   "outputs": [
    {
     "name": "stdout",
     "output_type": "stream",
     "text": [
      "Total registered: 2672662, total casual: 620017, Total seluruhny: 3292679\n"
     ]
    },
    {
     "data": {
      "image/png": "[encoded data removed]",
      "text/plain": [
       "<Figure size 640x480 with 1 Axes>"
      ]
     },
     "metadata": {},
     "output_type": "display_data"
    }
   ],
   "source": [
    "monthly_df = all_df.resample(rule='MS', on=\"dteday\").agg({\n",
    "        \"dteday\": \"first\",\n",
    "        \"casual\": \"sum\",\n",
    "        \"registered\": \"sum\",\n",
    "        \"cnt\": \"sum\"\n",
    "    })\n",
    "\n",
    "total_registerd = monthly_df.registered.sum()\n",
    "total_casual = monthly_df.casual.sum()\n",
    "total_orders = monthly_df.cnt.sum()\n",
    "\n",
    "labels = ('Registered', 'Casual')\n",
    "totals = (monthly_df.registered.sum(), monthly_df.casual.sum())\n",
    "colors = ('#93C572', '#FFF8DC')\n",
    "explode = (0, 0)\n",
    "\n",
    "print(\"Total registered: %d, total casual: %d, Total seluruhny: %d\" % (total_registerd,total_casual,total_orders))\n",
    "plt.pie(\n",
    "    x=totals,\n",
    "    labels=labels,\n",
    "    autopct='%1.1f%%',\n",
    "    colors=colors,\n",
    "    explode=explode\n",
    ")\n",
    "plt.show()\n"
   ]
  },
  {
   "cell_type": "markdown",
   "metadata": {
    "id": "_0-36BDLklRg"
   },
   "source": [
    "**Insight:**\n",
    "Dari tahun 2011 sampai tahun 2012 bisa diambil kesimpulan:\n",
    "- Transaksi per bulan dari awal Januari terus meningkat, dari 38189 transaksi per bulan sampai tertinggi di bulan Juli mencapai 136691, namun mulai bulan Agustus 2011 sampai Desember terjadi penurunan transaksi sampai 87323 sebelum mulai meningkat lagi bulan September 2012, sampai 218573, sebelum mulai menurun lagi\n",
    "- Transaksi per tahun mengalami kenaikan Year on Year, Januari 2011 dimulai dari 38189 sedangkan bulan Februari 2012 dimulai dari 96744. Selain itu YoY per bulan juga menunjukan tren kenaikan\n",
    "- Distribusi pengguna dari keseluruhan 3292679 transaksi, terdiri dari 81.2% (2672662 transaksi) dari user teregistrasi sedangkan sisany 18.8% (620017) berasal dari user casual atau tidak teregistrasi"
   ]
  },
  {
   "cell_type": "markdown",
   "metadata": {
    "id": "9y4VUsmcYNZ5"
   },
   "source": [
    "## Analisis Lanjutan (Opsional)"
   ]
  },
  {
   "cell_type": "code",
   "execution_count": null,
   "metadata": {
    "id": "iWhnzsJGYUCO"
   },
   "outputs": [],
   "source": []
  },
  {
   "cell_type": "markdown",
   "metadata": {
    "id": "_WeHlCeX8DC2"
   },
   "source": [
    "## Conclusion"
   ]
  },
  {
   "cell_type": "markdown",
   "metadata": {
    "id": "ZTcyR48Y8DC2"
   },
   "source": [
    "- Transaksi per bulan dari awal Januari terus meningkat, dari 38189 transaksi per bulan sampai tertinggi di bulan Juli mencapai 136691, namun mulai bulan Agustus 2011 sampai Desember terjadi penurunan transaksi sampai 87323 sebelum mulai meningkat lagi bulan September 2012, sampai 218573, sebelum mulai menurun lagi. Hal ini menunjukkan ada kemungkinan musim dan cuaca yang mempengaruhi jumlah transaksi\n",
    "- Transaksi per tahun mengalami kenaikan Year on Year, Januari 2011 dimulai dari 38189 sedangkan bulan Februari 2012 dimulai dari 96744. Selain itu YoY per bulan juga menunjukan tren kenaikan. Hal ini menunjukkan bahwa usaha masih memiliki tren kenaikan transaksi ke depan nya\n",
    "- Distribusi pengguna dari keseluruhan 3292679 transaksi, terdiri dari 81.2% (2672662 transaksi) dari user teregistrasi sedangkan sisany 18.8% (620017) berasal dari user casual atau tidak teregistrasi. Hal ini berarti masih ada 18% calon pengguna yang bisa diregistrasi ke sistem ke depan nya"
   ]
  }
 ],
 "metadata": {
  "colab": {
   "provenance": []
  },
  "kernelspec": {
   "display_name": "Python 3 (ipykernel)",
   "language": "python",
   "name": "python3"
  },
  "language_info": {
   "codemirror_mode": {
    "name": "ipython",
    "version": 3
   },
   "file_extension": ".py",
   "mimetype": "text/x-python",
   "name": "python",
   "nbconvert_exporter": "python",
   "pygments_lexer": "ipython3",
   "version": "3.10.8"
  },
  "vscode": {
   "interpreter": {
    "hash": "972b3bf27e332e87b5379f2791f6ef9dfc79c71018c370b0d7423235e20fe4d7"
   }
  }
 },
 "nbformat": 4,
 "nbformat_minor": 4
}
